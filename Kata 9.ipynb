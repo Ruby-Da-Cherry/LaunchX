{
 "cells": [
  {
   "cell_type": "markdown",
   "metadata": {},
   "source": [
    "Ejercicio 1. Uso de funciones en python\n",
    "\n",
    "Trabajar con argumentos en funciones"
   ]
  },
  {
   "cell_type": "code",
   "execution_count": 74,
   "metadata": {},
   "outputs": [],
   "source": [
    "# Funcion para leer 3 tanques de combustibles y mostrar el promedio\n",
    "def informe_tanques(tanque_1, tanque_2, tanque_3):\n",
    "    media = (tanque_1 + tanque_2 + tanque_3) / 3\n",
    "    return f\"\"\"Informe sobre los tanques. Media de los tanques: {media}% Tanque 1: {tanque_1}% Tanque 2: {tanque_2}% Tanque 3: {tanque_3}%\"\"\"\n"
   ]
  },
  {
   "cell_type": "code",
   "execution_count": 75,
   "metadata": {},
   "outputs": [
    {
     "data": {
      "text/plain": [
       "'Informe sobre los tanques. Media de los tanques: 73.33333333333333% Tanque 1: 50% Tanque 2: 100% Tanque 3: 70%'"
      ]
     },
     "execution_count": 75,
     "metadata": {},
     "output_type": "execute_result"
    }
   ],
   "source": [
    "# Funcion que genera informe sobre los tanques de combustible\n",
    "informe_tanques(50, 100, 70)"
   ]
  },
  {
   "cell_type": "code",
   "execution_count": 82,
   "metadata": {},
   "outputs": [
    {
     "data": {
      "text/plain": [
       "43.666666666666664"
      ]
     },
     "execution_count": 82,
     "metadata": {},
     "output_type": "execute_result"
    }
   ],
   "source": [
    "# Funcion promedio para mayor elegibilidad\n",
    "def media(values):\n",
    "    total_combustible = sum(values)\n",
    "    total_tanques = len(values)\n",
    "    return total_combustible / total_tanques\n",
    "\n",
    "# Prueba\n",
    "media([34, 54, 43])"
   ]
  },
  {
   "cell_type": "code",
   "execution_count": 84,
   "metadata": {},
   "outputs": [],
   "source": [
    "# Actualizacion de funcion\n",
    "def reporte_tanques(tanque_1, tanque_2, tanque_3):\n",
    "    return f\"\"\"Informe sobre el combustible en los tanques. Media de combustible: {media([tanque_1, tanque_2, tanque_3])}% Tanque 1: {tanque_1}% Tanque 2: {tanque_2}% Tanque 3: {tanque_3}%\"\"\""
   ]
  },
  {
   "cell_type": "code",
   "execution_count": 85,
   "metadata": {},
   "outputs": [
    {
     "data": {
      "text/plain": [
       "'Informe sobre el combustible en los tanques. Media de combustible: 41.333333333333336% Tanque 1: 34% Tanque 2: 56% Tanque 3: 34%'"
      ]
     },
     "execution_count": 85,
     "metadata": {},
     "output_type": "execute_result"
    }
   ],
   "source": [
    "reporte_tanques(34, 56, 34)"
   ]
  },
  {
   "cell_type": "markdown",
   "metadata": {},
   "source": [
    "Ejercicio 2. Trabajo con argumentos de palabra clave \n",
    "   \n",
    "Trabajar con argumentos de palabra clave en funciones"
   ]
  },
  {
   "cell_type": "code",
   "execution_count": 3,
   "metadata": {},
   "outputs": [
    {
     "name": "stdout",
     "output_type": "stream",
     "text": [
      "Informe de mision a Marte\n",
      "    Tiempo total de vuelo: 154\n",
      "    Total combustible disponible: 148\n"
     ]
    }
   ],
   "source": [
    "# Función con un informe preciso de la misión. Considera hora de prelanzamiento, tiempo de vuelo, destino, tanque externo y tanque interno\n",
    "def informe_mision(prelanzamiento, tiempo_vuelo, destino, tanque_externo, tanque_interno):\n",
    "    return f\"\"\"Informe de mision a {destino}\n",
    "    Tiempo total de vuelo: {prelanzamiento + tiempo_vuelo}\n",
    "    Total combustible disponible: {tanque_interno + tanque_externo}\"\"\"\n",
    "print(informe_mision(65, 89, \"Marte\", 98, 50))"
   ]
  },
  {
   "cell_type": "code",
   "execution_count": 5,
   "metadata": {},
   "outputs": [
    {
     "name": "stdout",
     "output_type": "stream",
     "text": [
      "Reporte de mision a Marte\n",
      "    Tiempo total de vuelo: 95 minutos\n",
      "    Combustible total  disponible: 3678\n"
     ]
    }
   ],
   "source": [
    "# Nueva funcion de reporte\n",
    "def reporte_mision(destino, *minutos, **Reserva_combustible):\n",
    "    return f\"\"\"Reporte de mision a {destino}\n",
    "    Tiempo total de vuelo: {sum(minutos)} minutos\n",
    "    Combustible total  disponible: {sum(Reserva_combustible.values())}\"\"\"\n",
    "\n",
    "print(reporte_mision(\"Marte\", 20, 70, 5, interno=2000, externo= 1678))"
   ]
  },
  {
   "cell_type": "code",
   "execution_count": 24,
   "metadata": {},
   "outputs": [],
   "source": [
    "# Nueva funcion de reporte para cada tanque en especifico\n",
    "def mision_reporte(destino, *minutos, **reserva_combustible):\n",
    "    reporte_principal = f\"\"\"\n",
    "    Reporte de mision a {destino}\n",
    "    Tiempo total de vuelo: {sum(minutos)} minutos\n",
    "    Combustible total disponible: {sum(reserva_combustible.values())}\n",
    "    \"\"\"\n",
    "    for nombre_combustible, litros in reserva_combustible.items():\n",
    "        reporte_principal += f\"Disponibles {litros} litros en el tanque {nombre_combustible}. \\n    \"\n",
    "    return reporte_principal"
   ]
  },
  {
   "cell_type": "code",
   "execution_count": 25,
   "metadata": {},
   "outputs": [
    {
     "name": "stdout",
     "output_type": "stream",
     "text": [
      "\n",
      "    Reporte de mision a Marte\n",
      "    Tiempo total de vuelo: 159 minutos\n",
      "    Combustible total disponible: 3657\n",
      "    Disponibles 2000 litros en el tanque interno. \n",
      "    Disponibles 1657 litros en el tanque externo. \n",
      "    \n"
     ]
    }
   ],
   "source": [
    "print(mision_reporte(\"Marte\", 23, 56, 80, interno = 2000, externo = 1657))"
   ]
  }
 ],
 "metadata": {
  "interpreter": {
   "hash": "1fab68e97719b536dbef0859ce2014dbc3af70db5b8008a9df4f9f4c788b5ce9"
  },
  "kernelspec": {
   "display_name": "Python 3.10.0 64-bit",
   "language": "python",
   "name": "python3"
  },
  "language_info": {
   "codemirror_mode": {
    "name": "ipython",
    "version": 3
   },
   "file_extension": ".py",
   "mimetype": "text/x-python",
   "name": "python",
   "nbconvert_exporter": "python",
   "pygments_lexer": "ipython3",
   "version": "3.10.0"
  },
  "orig_nbformat": 4
 },
 "nbformat": 4,
 "nbformat_minor": 2
}
