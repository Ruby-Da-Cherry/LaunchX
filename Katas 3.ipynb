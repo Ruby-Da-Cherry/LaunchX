{
 "cells": [
  {
   "cell_type": "code",
   "execution_count": 30,
   "metadata": {},
   "outputs": [
    {
     "name": "stdout",
     "output_type": "stream",
     "text": [
      "Advertencia de Asteroide\n"
     ]
    }
   ],
   "source": [
    "velocidad_asteroide = 48\n",
    "velocidad_limite = 25\n",
    "\n",
    "if velocidad_asteroide >= velocidad_limite:\n",
    "    print(\"Advertencia de Asteroide\")\n",
    "else:\n",
    "    print(\"Todo esta tranquilo en el planeta\")\n"
   ]
  },
  {
   "cell_type": "code",
   "execution_count": 4,
   "metadata": {},
   "outputs": [
    {
     "name": "stdout",
     "output_type": "stream",
     "text": [
      "Mira al cielo y pide un deseo!\n"
     ]
    }
   ],
   "source": [
    "velocidad_asteroide = 40\n",
    "velocidad_destello = 20\n",
    "\n",
    "if velocidad_asteroide >= velocidad_destello:\n",
    "    print(\"Mira al cielo y pide un deseo!\")\n",
    "else:\n",
    "    print(\"Sin destello por hoy\")"
   ]
  },
  {
   "cell_type": "code",
   "execution_count": 4,
   "metadata": {},
   "outputs": [
    {
     "name": "stdout",
     "output_type": "stream",
     "text": [
      "Mira al cielo que hay un destello!\n"
     ]
    }
   ],
   "source": [
    "velocidad_asteroide = 25\n",
    "velocidad_limite = 25\n",
    "velocidad_destello = 20\n",
    "tamano_asteroide = 40\n",
    "tamano_limite = 25\n",
    "\n",
    "if velocidad_asteroide > velocidad_limite and tamano_asteroide > tamano_limite:\n",
    "    print(\"Cuidado, hay una advertencia de asteroide, buca lugar seguro!\")\n",
    "elif velocidad_asteroide >= velocidad_destello:\n",
    "        print(\"Mira al cielo que hay un destello!\")\n",
    "elif velocidad_asteroide <= velocidad_destello:\n",
    "    print(\"El trafico interespacial esta tranquilo hoy\")\n",
    "else:\n",
    "    print(\"El trafico interespacial esta traqnuilo hoy\")"
   ]
  }
 ],
 "metadata": {
  "interpreter": {
   "hash": "1fab68e97719b536dbef0859ce2014dbc3af70db5b8008a9df4f9f4c788b5ce9"
  },
  "kernelspec": {
   "display_name": "Python 3.10.0 64-bit",
   "language": "python",
   "name": "python3"
  },
  "language_info": {
   "codemirror_mode": {
    "name": "ipython",
    "version": 3
   },
   "file_extension": ".py",
   "mimetype": "text/x-python",
   "name": "python",
   "nbconvert_exporter": "python",
   "pygments_lexer": "ipython3",
   "version": "3.10.0"
  },
  "orig_nbformat": 4
 },
 "nbformat": 4,
 "nbformat_minor": 2
}
