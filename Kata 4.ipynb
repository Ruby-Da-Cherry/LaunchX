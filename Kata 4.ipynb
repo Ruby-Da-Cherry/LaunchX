{
 "cells": [
  {
   "cell_type": "markdown",
   "metadata": {},
   "source": [
    "Ejercicio 1. Transformar cadenas"
   ]
  },
  {
   "cell_type": "code",
   "execution_count": 23,
   "metadata": {},
   "outputs": [
    {
     "name": "stdout",
     "output_type": "stream",
     "text": [
      "['Interesting facts about the Moon', \" The Moon is Earth's only satellite\", ' There are several interesting facts about the Moon and how it affects life here on Earth', ' On average, the Moon moves 4cm away from the Earth every year', ' This yearly drift is not significant enough to cause immediate effects on Earth', ' The highest daylight temperature of the Moon is 127 C', '']\n"
     ]
    }
   ],
   "source": [
    "#Dividir el texto en oraciones para trabajar\n",
    "text = \"\"\"Interesting facts about the Moon. The Moon is Earth's only satellite. There are several interesting facts about the Moon and how it affects life here on Earth. On average, the Moon moves 4cm away from the Earth every year. This yearly drift is not significant enough to cause immediate effects on Earth. The highest daylight temperature of the Moon is 127 C.\"\"\"\n",
    "text_phrases = text .split('.')\n",
    "print(text_phrases)"
   ]
  },
  {
   "cell_type": "code",
   "execution_count": 22,
   "metadata": {},
   "outputs": [],
   "source": [
    "#Definir palabras clave para su busqueda y determinar si una oracion contiene un hecho\n",
    "palabras_clave = {\"average\", \"temperature\", \"distance\"}\n"
   ]
  },
  {
   "cell_type": "code",
   "execution_count": 49,
   "metadata": {},
   "outputs": [
    {
     "name": "stdout",
     "output_type": "stream",
     "text": [
      "Interesting facts about the Moon\n",
      " The Moon is Earth's only satellite\n",
      " There are several interesting facts about the Moon and how it affects life here on Earth\n",
      " On average, the Moon moves 4cm away from the Earth every year\n",
      " This yearly drift is not significant enough to cause immediate effects on Earth\n",
      " The highest daylight temperature of the Moon is 127 C\n"
     ]
    }
   ],
   "source": [
    "#Definir bucle para imprimir datos sobre la Luna que se relacionen con las palabras clave\n",
    "for oracion in text_phrases:\n",
    "    for palabras_clave in palabras_clave:\n",
    "        if palabras_clave in oracion:\n",
    "            print(oracion)\n",
    "            break\n",
    "            "
   ]
  },
  {
   "cell_type": "code",
   "execution_count": 45,
   "metadata": {},
   "outputs": [
    {
     "name": "stdout",
     "output_type": "stream",
     "text": [
      "Interesting facts about the Moon\n",
      " The Moon is Earth's only satellite\n",
      " There are several interesting facts about the Moon and how it affects life here on Earth\n",
      " On average, the Moon moves 4cm away from the Earth every year\n",
      " This yearly drift is not significant enough to cause immediate effects on Earth\n",
      " The highest daylight temperature of the Moon is 127 Celsius\n"
     ]
    }
   ],
   "source": [
    "#Actualizar bucle para reemplazar C a Celsius\n",
    "for oracion in text_phrases:\n",
    "    for palabras_clave in palabras_clave:\n",
    "        if palabras_clave in oracion:\n",
    "            print(oracion.replace(' C', ' Celsius'))\n",
    "            break\n"
   ]
  },
  {
   "cell_type": "markdown",
   "metadata": {},
   "source": [
    "Ejercicio 2. Formatenado cadenas"
   ]
  },
  {
   "cell_type": "code",
   "execution_count": 160,
   "metadata": {},
   "outputs": [],
   "source": [
    "# Datos a trabajar\n",
    "name = \"Luna\"\n",
    "gravity = 0.00162 # en km\n",
    "planet = \"Tierra\""
   ]
  },
  {
   "cell_type": "code",
   "execution_count": 161,
   "metadata": {},
   "outputs": [
    {
     "name": "stdout",
     "output_type": "stream",
     "text": [
      "Informacion sobre la gravedad en Luna\n"
     ]
    }
   ],
   "source": [
    "# Titulo\n",
    "title = f'Informacion sobre la gravedad en {name}'\n",
    "print(title)"
   ]
  },
  {
   "cell_type": "code",
   "execution_count": 162,
   "metadata": {},
   "outputs": [],
   "source": [
    "# Cadena multilinea para contener informacion \n",
    "hechos = f'''{'-'*80}\n",
    "Nombre del planeta: {planet}\n",
    "Gravedad en {name}: {gravity * 1000} m/s2\n",
    "'''"
   ]
  },
  {
   "cell_type": "code",
   "execution_count": 163,
   "metadata": {},
   "outputs": [],
   "source": [
    "# Union cadenas\n",
    "plantilla = f'''{title.title()}\n",
    "{hechos}\n",
    "'''"
   ]
  },
  {
   "cell_type": "code",
   "execution_count": 164,
   "metadata": {},
   "outputs": [
    {
     "name": "stdout",
     "output_type": "stream",
     "text": [
      "--------------------------------------------------------------------------------\n",
      "Nombre del planeta: Tierra\n",
      "Gravedad en Luna: 1.6199999999999999 m/s2\n",
      "\n"
     ]
    }
   ],
   "source": [
    "print(hechos)"
   ]
  },
  {
   "cell_type": "code",
   "execution_count": 165,
   "metadata": {},
   "outputs": [],
   "source": [
    "plantilla_nueva = f'''\n",
    "Informacion sobre la gravedad de: {name}\n",
    "--------------------------------------------------------\n",
    "Nombre del Planeta: {planet}\n",
    "Gravedad en {name}: {gravity * 1000} m/s2\n",
    "'''"
   ]
  },
  {
   "cell_type": "code",
   "execution_count": 166,
   "metadata": {},
   "outputs": [
    {
     "name": "stdout",
     "output_type": "stream",
     "text": [
      "\n",
      "Informacion sobre la gravedad de: Luna\n",
      "--------------------------------------------------------\n",
      "Nombre del Planeta: Tierra\n",
      "Gravedad en Luna: 1.6199999999999999 m/s2\n",
      "\n"
     ]
    }
   ],
   "source": [
    "print(plantilla_nueva.format(name=name, planet=planet, gravity=gravity))"
   ]
  }
 ],
 "metadata": {
  "interpreter": {
   "hash": "1fab68e97719b536dbef0859ce2014dbc3af70db5b8008a9df4f9f4c788b5ce9"
  },
  "kernelspec": {
   "display_name": "Python 3.10.0 64-bit",
   "language": "python",
   "name": "python3"
  },
  "language_info": {
   "codemirror_mode": {
    "name": "ipython",
    "version": 3
   },
   "file_extension": ".py",
   "mimetype": "text/x-python",
   "name": "python",
   "nbconvert_exporter": "python",
   "pygments_lexer": "ipython3",
   "version": "3.10.0"
  },
  "orig_nbformat": 4
 },
 "nbformat": 4,
 "nbformat_minor": 2
}
