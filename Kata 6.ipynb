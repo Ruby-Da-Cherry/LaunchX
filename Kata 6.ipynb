{
 "cells": [
  {
   "cell_type": "markdown",
   "metadata": {},
   "source": [
    "Ejercicio 1. Crear y usar listas de Python\n",
    "\n",
    "Usar listas para almacenar nombres de planetas"
   ]
  },
  {
   "cell_type": "code",
   "execution_count": 4,
   "metadata": {},
   "outputs": [
    {
     "name": "stdout",
     "output_type": "stream",
     "text": [
      "Hay 8 planetas en el sistema solar\n"
     ]
    }
   ],
   "source": [
    "# Crear variable y agregar los planetas sin Pluton\n",
    "planets = ['Mercurio', 'Venus', 'Tierra', 'Marte', 'Jupiter', 'Saturno', 'Urano', 'Neptuno']\n",
    "number_planets = len(planets)\n",
    "print('Hay', number_planets, 'planetas en el sistema solar')"
   ]
  },
  {
   "cell_type": "code",
   "execution_count": 5,
   "metadata": {},
   "outputs": [
    {
     "name": "stdout",
     "output_type": "stream",
     "text": [
      "Hay 9 planetas en el sistema solar\n"
     ]
    }
   ],
   "source": [
    "# Agregar planeta Pluton y mostrar el ultimo elemento\n",
    "planets.append('Pluto')\n",
    "number_planets = len(planets)\n",
    "print('Hay', number_planets, 'planetas en el sistema solar')"
   ]
  },
  {
   "cell_type": "markdown",
   "metadata": {},
   "source": [
    "Ejercicio 2. Trabajar con datos de una lista \n",
    "\n",
    "Usar slices para recuperar partes de una lista"
   ]
  },
  {
   "cell_type": "code",
   "execution_count": 6,
   "metadata": {},
   "outputs": [],
   "source": [
    "# Lista de planetas\n",
    "planetas = ['Mercurio', 'Venus', 'Tierra', 'Marte', 'Jupiter', 'Saturno','Urano', 'Neptuno']"
   ]
  },
  {
   "cell_type": "code",
   "execution_count": 33,
   "metadata": {},
   "outputs": [],
   "source": [
    "# Solicitud al usuario el nombre de un planeta\n",
    "input_request = input('Porfavor ingrese el nombre de un planeta (con una letra mayuscula al inicio)')"
   ]
  },
  {
   "cell_type": "code",
   "execution_count": 34,
   "metadata": {},
   "outputs": [],
   "source": [
    "# Buscar el planeta en la lista\n",
    "planet_requested = planetas.index(input_request)"
   ]
  },
  {
   "cell_type": "code",
   "execution_count": 35,
   "metadata": {},
   "outputs": [
    {
     "name": "stdout",
     "output_type": "stream",
     "text": [
      "Los planetas mas cercanos que Tierra\n",
      "['Mercurio', 'Venus']\n"
     ]
    }
   ],
   "source": [
    "# Mostrar planetas mas cercanos al sol de acuerdo al planeta ingresado por el usuario\n",
    "print('Los planetas mas cercanos que ' + input_request)\n",
    "print(planetas[0:planet_requested])"
   ]
  },
  {
   "cell_type": "code",
   "execution_count": 36,
   "metadata": {},
   "outputs": [
    {
     "name": "stdout",
     "output_type": "stream",
     "text": [
      "Los planetas mas alejados quevTierra\n",
      "['Marte', 'Jupiter', 'Saturno', 'Urano', 'Neptuno']\n"
     ]
    }
   ],
   "source": [
    "# Mostrar planetas mas lejanos al sol de acuerdo al planeta ingresado por el usuario\n",
    "print('Los planetas mas alejados quev' + input_request)\n",
    "print(planetas[planet_requested + 1:])"
   ]
  }
 ],
 "metadata": {
  "interpreter": {
   "hash": "1fab68e97719b536dbef0859ce2014dbc3af70db5b8008a9df4f9f4c788b5ce9"
  },
  "kernelspec": {
   "display_name": "Python 3.10.0 64-bit",
   "language": "python",
   "name": "python3"
  },
  "language_info": {
   "codemirror_mode": {
    "name": "ipython",
    "version": 3
   },
   "file_extension": ".py",
   "mimetype": "text/x-python",
   "name": "python",
   "nbconvert_exporter": "python",
   "pygments_lexer": "ipython3",
   "version": "3.10.0"
  },
  "orig_nbformat": 4
 },
 "nbformat": 4,
 "nbformat_minor": 2
}
